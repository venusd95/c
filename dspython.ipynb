{
 "cells": [
  {
   "cell_type": "markdown",
   "metadata": {},
   "source": [
    "### Data Strucuture Introduction\n",
    "* Data structures are used to store data in a computer in an organized form.\n",
    "* Data structure is an arrangement of data in computer's memory.\n",
    "* It makes the data quickly available to the processor for required operations.\n",
    "* It is a software construct  which allows data to be stored, organized and accessed.\n",
    "<br><font color=\"red\">For example, while using a shopping website like Flipkart or Amazon, the users know their last orders and can track them. The orders are stored in a database as records!</font>"
   ]
  },
  {
   "cell_type": "markdown",
   "metadata": {},
   "source": [
    "<img src='type1.png'/>"
   ]
  },
  {
   "cell_type": "markdown",
   "metadata": {},
   "source": [
    "<img src='type3.png'/>"
   ]
  },
  {
   "cell_type": "markdown",
   "metadata": {},
   "source": [
    "## linear search\n",
    "* Linear search is a very simple search algorithm. \n",
    "* In this type of search, a sequential search is made over all items one by one.\n",
    "* Every item is checked and if a match is found then that particular item is returned, otherwise the search continues till the end of the data collection.\n",
    "* time complexity  is O(n)."
   ]
  },
  {
   "cell_type": "markdown",
   "metadata": {},
   "source": [
    "## code"
   ]
  },
  {
   "cell_type": "code",
   "execution_count": 45,
   "metadata": {},
   "outputs": [
    {
     "name": "stdout",
     "output_type": "stream",
     "text": [
      "enter the element to search100\n",
      "key is found at position 5\n"
     ]
    }
   ],
   "source": [
    "a=[10,50,35,67,100,78]\n",
    "flag=0\n",
    "key=int(input(\"enter the element to search\"))\n",
    "for i in range(len(a)):\n",
    "    if(a[i]==key):\n",
    "        flag=1\n",
    "        break\n",
    "if(flag==1):\n",
    "    print(\"key is found at position\",i+1)\n",
    "else:\n",
    "    print(\"key is not found\") "
   ]
  },
  {
   "cell_type": "markdown",
   "metadata": {},
   "source": [
    "## advantages\n",
    "* It also operates equally well on both unsorted and sorted data.\n",
    "## disadvantages\n",
    "* the performance of the algorithm scales linearly with the size of the input. \n",
    "* For the general case, linear search thus is considerably slower than many other search algorithms\n"
   ]
  },
  {
   "cell_type": "markdown",
   "metadata": {},
   "source": [
    "## buble sort\n",
    "\n",
    "* Bubble sort is  comparison-based algorithm in which each pair of adjacent elements is compared and the elements are swapped if they are not in order. \n",
    "* time complexity is Ο(n^2) where n is the number of items."
   ]
  },
  {
   "cell_type": "markdown",
   "metadata": {},
   "source": [
    "## code\n"
   ]
  },
  {
   "cell_type": "code",
   "execution_count": 49,
   "metadata": {},
   "outputs": [
    {
     "name": "stdout",
     "output_type": "stream",
     "text": [
      "enter the size of the array5\n",
      "enter the element12\n",
      "enter the element89\n",
      "enter the element90\n",
      "enter the element17\n",
      "enter the element34\n",
      "before sorting the array\n",
      "12 89 90 17 34 \n",
      "after sorting the array\n",
      "12 17 34 89 90 "
     ]
    }
   ],
   "source": [
    "n=int(input(\"enter the size of the array\"))\n",
    "for i in range(n):\n",
    "    a[i]=int(input(\"enter the element\"))\n",
    "print(\"before sorting the array\")    \n",
    "for i in range(n):\n",
    "    print(a[i],end=\" \")\n",
    "for i in range(1,n):\n",
    "    for j in range(0,n-i):\n",
    "        if(a[j]>a[j+1]):\n",
    "            temp=a[j];\n",
    "            a[j]=a[j+1]\n",
    "            a[j+1]=temp\n",
    "        j=j+1\n",
    "    i=i+1\n",
    "            \n",
    "print(\"\\nafter sorting the array\")\n",
    "for i in range(n):\n",
    "    print(a[i],end=\" \")\n"
   ]
  },
  {
   "cell_type": "markdown",
   "metadata": {},
   "source": [
    "## advantgaes\n",
    "* it is best if it is having small data sets\n",
    "*Bubble Sort is the simplest sorting algorithm that works by repeatedly swapping the adjacent elements if they are in wrong order\n",
    "\n",
    "## disadvantages\n",
    "*This algorithm is not suitable for large data sets as its average and worst case complexity are of Ο(n2) where n is the number of items."
   ]
  },
  {
   "cell_type": "markdown",
   "metadata": {},
   "source": [
    "## selection sort"
   ]
  },
  {
   "cell_type": "markdown",
   "metadata": {},
   "source": [
    "* This sorting algorithm is an in-place comparison-based algorithm in which the list is divided into two parts, the sorted part at the left end and the unsorted part at the right end. Initially, the sorted part is empty and the unsorted part is the entire list.\n",
    "\n",
    "* The smallest element is selected from the unsorted array and swapped with the leftmost element, and that element becomes a part of the sorted array. This process continues moving unsorted array boundary by one element to the right.\n"
   ]
  },
  {
   "cell_type": "code",
   "execution_count": 43,
   "metadata": {},
   "outputs": [
    {
     "name": "stdout",
     "output_type": "stream",
     "text": [
      "before sorting the array\n",
      "1 3 5 8 10 2 9 after sorting the array\n",
      "1 2 3 5 8 9 10 "
     ]
    }
   ],
   "source": [
    "c=[1,3,5,8,10,2,9]\n",
    "print(\"before sorting the array\")    \n",
    "for i in range(len(c)):\n",
    "    print(c[i],end=\" \")\n",
    "for i in range(len(c)):\n",
    "    min=i\n",
    "    for j in range(i+1,len(c)):\n",
    "        if(c[j]<c[min]):\n",
    "            min=j\n",
    "    temp=c[i]\n",
    "    c[i]=c[min]\n",
    "    c[min]=temp\n",
    "print(\"after sorting the array\")\n",
    "for i in range(len(c)):\n",
    "    print(c[i],end=\" \")   \n"
   ]
  },
  {
   "cell_type": "markdown",
   "metadata": {},
   "source": [
    "## advantage\n",
    "* The main advantage of the selection sort is that it performs well on a small list. Furthermore, because it is an in-place sorting algorithm, no additional temporary storage is required beyond what is needed to hold the original list\n",
    "## disadvantages\n",
    "* This algorithm is not suitable for large data sets as its average and worst case complexities are of Ο(n^2)\n"
   ]
  },
  {
   "cell_type": "markdown",
   "metadata": {},
   "source": []
  }
 ],
 "metadata": {
  "kernelspec": {
   "display_name": "Python 3",
   "language": "python",
   "name": "python3"
  },
  "language_info": {
   "codemirror_mode": {
    "name": "ipython",
    "version": 3
   },
   "file_extension": ".py",
   "mimetype": "text/x-python",
   "name": "python",
   "nbconvert_exporter": "python",
   "pygments_lexer": "ipython3",
   "version": "3.7.4"
  }
 },
 "nbformat": 4,
 "nbformat_minor": 2
}
